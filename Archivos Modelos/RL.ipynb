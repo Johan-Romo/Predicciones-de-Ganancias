{
 "cells": [
  {
   "cell_type": "code",
   "execution_count": 1,
   "metadata": {},
   "outputs": [],
   "source": [
    "from matplotlib.colors import ListedColormap\n",
    "import matplotlib.pyplot as plt\n",
    "import seaborn as sns\n",
    "import numpy as np\n",
    "import pandas as pd\n",
    "from sklearn.model_selection import train_test_split\n",
    "from sklearn.metrics import accuracy_score, classification_report, confusion_matrix, ConfusionMatrixDisplay\n",
    "from sklearn.preprocessing import StandardScaler\n",
    "from sklearn.linear_model import LogisticRegression\n",
    "from imblearn.over_sampling import SMOTE\n",
    "from imblearn.pipeline import Pipeline"
   ]
  },
  {
   "cell_type": "code",
   "execution_count": 2,
   "metadata": {},
   "outputs": [],
   "source": [
    "# Cargar los datos\n",
    "data = pd.read_csv(\"data_evaluacion.csv\", header=None)\n",
    "\n",
    "etiquetas = ['edad', 'tipo_empleado', 'fnlwgt', 'educacion', 'educacion_num', \n",
    "                 'estado_civil', 'ocupacion', 'relacion', 'raza', 'sexo', \n",
    "                 'capital_ganado', 'capital_perdido', 'hr_por_semana', 'pais', 'ganancia']\n",
    "data.columns = etiquetas\n",
    "\n",
    "def obtener_categorias(data, categoria):\n",
    "    categorias = data[categoria].unique()\n",
    "    return categorias\n"
   ]
  },
  {
   "cell_type": "code",
   "execution_count": 3,
   "metadata": {},
   "outputs": [],
   "source": [
    "# Reemplazar las categorías en el DataFrame con valores numéricos\n",
    "def categorize_employment(job_category):\n",
    "    if job_category in ['State-gov', 'Federal-gov', 'Local-gov']:\n",
    "        return 1  # Empleo Gubernamental\n",
    "    elif job_category == 'Private':\n",
    "        return 2  # Empleo Privado\n",
    "    elif job_category in ['Self-emp-not-inc', 'Self-emp-inc']:\n",
    "        return 3  # Empleo Independiente\n",
    "    elif job_category == 'Without-pay':\n",
    "        return 4  # Trabajo No Remunerado\n",
    "    elif job_category == 'Never-worked':\n",
    "        return 5  # No Empleo\n",
    "    else:\n",
    "        return np.nan  # Representa un dato desconocido"
   ]
  },
  {
   "cell_type": "code",
   "execution_count": 4,
   "metadata": {},
   "outputs": [],
   "source": [
    "data['tipo_empleado'] = data['tipo_empleado'].apply(categorize_employment).astype('Int32')\n",
    "\n",
    "def categorize_sex(sex_category):\n",
    "    if sex_category == 'Male':\n",
    "        return 1\n",
    "    elif sex_category == 'Female':\n",
    "        return 2\n",
    "    else:\n",
    "        return pd.NA  # Representa un dato desconocido\n",
    "\n",
    "data['sexo'] = data['sexo'].apply(categorize_sex).astype('Int32')\n"
   ]
  },
  {
   "cell_type": "code",
   "execution_count": 5,
   "metadata": {},
   "outputs": [],
   "source": [
    "def categorize_continent(country_category):\n",
    "    if country_category in ['United-States', 'Canada', 'Mexico', 'Puerto-Rico', 'Outlying-US(Guam-USVI-etc)']:\n",
    "        return 1  # América del Norte\n",
    "    elif country_category in ['Cuba', 'Jamaica', 'Honduras', 'Columbia', 'Ecuador', 'Haiti', \n",
    "                              'Dominican-Republic', 'El-Salvador', 'Guatemala', 'Peru', \n",
    "                              'Nicaragua', 'Trinadad&Tobago']:\n",
    "        return 2  # América Latina y el Caribe\n",
    "    elif country_category in ['England', 'Germany', 'Italy', 'Poland', 'Portugal', 'France', \n",
    "                              'Scotland', 'Ireland', 'Hungary', 'Greece', 'Netherlands', \n",
    "                              'Yugoslavia']:\n",
    "        return 3  # Europa\n",
    "    elif country_category in ['India', 'Iran', 'Philippines', 'Cambodia', 'Thailand', 'Laos', \n",
    "                              'Taiwan', 'China', 'Japan', 'Vietnam', 'Hong']:\n",
    "        return 4  # Asia\n",
    "    elif country_category in ['South', 'Nigeria']:\n",
    "        return 5  # África\n",
    "    else:\n",
    "        return pd.NA  # Representa un dato desconocido\n",
    "\n",
    "data['pais'] = data['pais'].apply(categorize_continent).astype('Int32')"
   ]
  },
  {
   "cell_type": "code",
   "execution_count": 6,
   "metadata": {},
   "outputs": [],
   "source": [
    "def categorize_relationship(relationship_category):\n",
    "    if relationship_category == 'Not-in-family':\n",
    "        return 1\n",
    "    elif relationship_category == 'Husband':\n",
    "        return 2\n",
    "    elif relationship_category == 'Wife':\n",
    "        return 3\n",
    "    elif relationship_category == 'Own-child':\n",
    "        return 4\n",
    "    elif relationship_category == 'Unmarried':\n",
    "        return 5\n",
    "    elif relationship_category == 'Other-relative':\n",
    "        return 6\n",
    "    else:\n",
    "        return pd.NA  # Representa un dato desconocido\n",
    "\n",
    "data['relacion'] = data['relacion'].apply(categorize_relationship).astype('Int32')"
   ]
  },
  {
   "cell_type": "code",
   "execution_count": 7,
   "metadata": {},
   "outputs": [],
   "source": [
    "def categorize_civil_status(civil_status_category):\n",
    "    if civil_status_category in ['Married-civ-spouse', 'Married-spouse-absent', 'Married-AF-spouse']:\n",
    "        return 1  # Casado\n",
    "    elif civil_status_category in ['Never-married', 'Separated']:\n",
    "        return 2  # No Casado\n",
    "    elif civil_status_category == 'Divorced':\n",
    "        return 3  # Divorciado\n",
    "    elif civil_status_category == 'Widowed':\n",
    "        return 4  # Viudo\n",
    "    else:\n",
    "        return pd.NA  # Representa un dato desconocido\n",
    "\n",
    "data['estado_civil'] = data['estado_civil'].apply(categorize_civil_status).astype('Int32')"
   ]
  },
  {
   "cell_type": "code",
   "execution_count": 8,
   "metadata": {},
   "outputs": [],
   "source": [
    "def categorize_race(race_category):\n",
    "    if race_category == 'White':\n",
    "        return 1\n",
    "    elif race_category == 'Black':\n",
    "        return 2\n",
    "    elif race_category == 'Asian-Pac-Islander':\n",
    "        return 3\n",
    "    elif race_category == 'Amer-Indian-Eskimo':\n",
    "        return 4\n",
    "    elif race_category == 'Other':\n",
    "        return 5\n",
    "    else:\n",
    "        return pd.NA  # Representa un dato desconocido\n",
    "\n",
    "data['raza'] = data['raza'].apply(categorize_race).astype('Int32')"
   ]
  },
  {
   "cell_type": "code",
   "execution_count": 9,
   "metadata": {},
   "outputs": [],
   "source": [
    "def categorize_education(education_category):\n",
    "    if education_category in ['Preschool', '1st-4th', '5th-6th', '7th-8th']:\n",
    "        return 1  # Educación Básica\n",
    "    elif education_category in ['HS-grad', '9th', '10th', '11th', '12th']:\n",
    "        return 2  # Educación Secundaria\n",
    "    elif education_category in ['Some-college', 'Assoc-acdm', 'Assoc-voc', 'Bachelors']:\n",
    "        return 3  # Educación Técnica\n",
    "    elif education_category in ['Prof-school', 'Masters', 'Doctorate']:\n",
    "        return 4  # Educación Superior\n",
    "    else:\n",
    "        return pd.NA  # Representa un dato desconocido\n",
    "\n",
    "data['educacion'] = data['educacion'].apply(categorize_education).astype('Int32')"
   ]
  },
  {
   "cell_type": "code",
   "execution_count": 10,
   "metadata": {},
   "outputs": [],
   "source": [
    "def categorize_income(income_category):\n",
    "    if income_category == '<=50K':\n",
    "        return 1\n",
    "    elif income_category == '>50K':\n",
    "        return 2\n",
    "    else:\n",
    "        return pd.NA  # Representa un dato desconocido\n",
    "\n",
    "data['ganancia'] = data['ganancia'].apply(categorize_income).astype('Int32')"
   ]
  },
  {
   "cell_type": "code",
   "execution_count": 11,
   "metadata": {},
   "outputs": [],
   "source": [
    "def categorize_occupation(occupation_category):\n",
    "    if occupation_category in ['Adm-clerical', 'Exec-managerial']:\n",
    "        return 1  # Administración y Oficina\n",
    "    elif occupation_category in ['Handlers-cleaners', 'Other-service', 'Sales', 'Tech-support', 'Priv-house-serv']:\n",
    "        return 2  # Servicios\n",
    "    elif occupation_category in ['Prof-specialty', 'Protective-serv']:\n",
    "        return 3  # Especialidades Profesionales\n",
    "    elif occupation_category in ['Craft-repair', 'Transport-moving', 'Farming-fishing', 'Machine-op-inspct']:\n",
    "        return 4  # Mano de Obra y Transporte\n",
    "    elif occupation_category == 'Armed-Forces':\n",
    "        return 5  # Fuerzas Armadas\n",
    "    else:\n",
    "        return pd.NA  # Representa un dato desconocido\n",
    "\n",
    "data['ocupacion'] = data['ocupacion'].apply(categorize_occupation).astype('Int32')"
   ]
  },
  {
   "cell_type": "code",
   "execution_count": 12,
   "metadata": {},
   "outputs": [
    {
     "name": "stderr",
     "output_type": "stream",
     "text": [
      "C:\\Users\\Sebastian\\AppData\\Local\\Temp\\ipykernel_5540\\477401535.py:2: FutureWarning: A value is trying to be set on a copy of a DataFrame or Series through chained assignment using an inplace method.\n",
      "The behavior will change in pandas 3.0. This inplace method will never work because the intermediate object on which we are setting values always behaves as a copy.\n",
      "\n",
      "For example, when doing 'df[col].method(value, inplace=True)', try using 'df.method({col: value}, inplace=True)' or df[col] = df[col].method(value) instead, to perform the operation inplace on the original object.\n",
      "\n",
      "\n",
      "  data['tipo_empleado'].fillna(data['tipo_empleado'].mode()[0], inplace=True)\n",
      "C:\\Users\\Sebastian\\AppData\\Local\\Temp\\ipykernel_5540\\477401535.py:3: FutureWarning: A value is trying to be set on a copy of a DataFrame or Series through chained assignment using an inplace method.\n",
      "The behavior will change in pandas 3.0. This inplace method will never work because the intermediate object on which we are setting values always behaves as a copy.\n",
      "\n",
      "For example, when doing 'df[col].method(value, inplace=True)', try using 'df.method({col: value}, inplace=True)' or df[col] = df[col].method(value) instead, to perform the operation inplace on the original object.\n",
      "\n",
      "\n",
      "  data['ocupacion'].fillna(data['ocupacion'].mode()[0], inplace=True)\n",
      "C:\\Users\\Sebastian\\AppData\\Local\\Temp\\ipykernel_5540\\477401535.py:4: FutureWarning: A value is trying to be set on a copy of a DataFrame or Series through chained assignment using an inplace method.\n",
      "The behavior will change in pandas 3.0. This inplace method will never work because the intermediate object on which we are setting values always behaves as a copy.\n",
      "\n",
      "For example, when doing 'df[col].method(value, inplace=True)', try using 'df.method({col: value}, inplace=True)' or df[col] = df[col].method(value) instead, to perform the operation inplace on the original object.\n",
      "\n",
      "\n",
      "  data['pais'].fillna(data['pais'].mode()[0], inplace=True)\n"
     ]
    }
   ],
   "source": [
    "# Rellenar valores NaN\n",
    "data['tipo_empleado'].fillna(data['tipo_empleado'].mode()[0], inplace=True)\n",
    "data['ocupacion'].fillna(data['ocupacion'].mode()[0], inplace=True)\n",
    "data['pais'].fillna(data['pais'].mode()[0], inplace=True)\n",
    "\n",
    "X = data.drop(['ganancia'], axis=1)\n",
    "y = data['ganancia']\n",
    "\n",
    "# Crear un objeto StandardScaler\n",
    "scaler = StandardScaler()\n",
    "\n",
    "# Ajustar el scaler a los datos de entrenamiento y transformarlos\n",
    "X_scaled = scaler.fit_transform(X)\n",
    "\n",
    "# Convertir el array escalado de vuelta a un DataFrame\n",
    "X_scaled = pd.DataFrame(X_scaled, columns=X.columns)\n",
    "\n",
    "X_train, X_test, y_train, y_test = train_test_split(X_scaled, y, test_size=0.30, random_state=42)\n"
   ]
  },
  {
   "cell_type": "code",
   "execution_count": 13,
   "metadata": {},
   "outputs": [
    {
     "name": "stdout",
     "output_type": "stream",
     "text": [
      "Train Accuracy : 0.84086\n",
      "Test Accuracy : 0.83785\n",
      "Precisión del modelo: 0.8378489046611616\n",
      "              precision    recall  f1-score   support\n",
      "\n",
      "         1.0       0.86      0.94      0.90     11109\n",
      "         2.0       0.73      0.53      0.61      3544\n",
      "\n",
      "    accuracy                           0.84     14653\n",
      "   macro avg       0.79      0.73      0.75     14653\n",
      "weighted avg       0.83      0.84      0.83     14653\n",
      "\n"
     ]
    },
    {
     "data": {
      "image/png": "[encoded data removed]",
      "text/plain": [
       "<Figure size 640x480 with 2 Axes>"
      ]
     },
     "metadata": {},
     "output_type": "display_data"
    }
   ],
   "source": [
    "#  LogisticRegression\n",
    "modelo = LogisticRegression(random_state=42, max_iter=1000)\n",
    "modelo.fit(X_train, y_train)\n",
    "y_pred = modelo.predict(X_test)\n",
    "\n",
    "# Evaluación del modelo\n",
    "print('Train Accuracy : %.5f' % modelo.score(X_train, y_train))\n",
    "print('Test Accuracy : %.5f' % modelo.score(X_test, y_test))\n",
    "print(\"Precisión del modelo:\", accuracy_score(y_test, y_pred))\n",
    "print(classification_report(y_test, y_pred))\n",
    "\n",
    "# Matriz de confusión\n",
    "disp = ConfusionMatrixDisplay(confusion_matrix(y_test, y_pred))\n",
    "disp.plot()\n",
    "plt.show()"
   ]
  }
 ],
 "metadata": {
  "kernelspec": {
   "display_name": "Python 3",
   "language": "python",
   "name": "python3"
  },
  "language_info": {
   "codemirror_mode": {
    "name": "ipython",
    "version": 3
   },
   "file_extension": ".py",
   "mimetype": "text/x-python",
   "name": "python",
   "nbconvert_exporter": "python",
   "pygments_lexer": "ipython3",
   "version": "3.12.3"
  }
 },
 "nbformat": 4,
 "nbformat_minor": 2
}
